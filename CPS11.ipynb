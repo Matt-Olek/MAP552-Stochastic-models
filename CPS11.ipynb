{
 "cells": [
  {
   "cell_type": "markdown",
   "metadata": {},
   "source": [
    "# CPS1.1 - Computer Problem Set 1.1\n",
    "### **The Cox-Ross-Rubinstein model**"
   ]
  },
  {
   "cell_type": "markdown",
   "metadata": {},
   "source": [
    "1 -"
   ]
  },
  {
   "cell_type": "code",
   "execution_count": 1,
   "metadata": {},
   "outputs": [],
   "source": [
    "import numpy as np\n",
    "import matplotlib.pyplot as plt\n",
    "import scipy.stats as stats"
   ]
  },
  {
   "cell_type": "code",
   "execution_count": 2,
   "metadata": {},
   "outputs": [],
   "source": [
    "sigma = 0.3\n",
    "b = 0.05\n",
    "r = 0.05\n",
    "n = 50\n",
    "T = 2\n",
    "S0 = 100\n",
    "\n",
    "def h(n) :\n",
    "    return T/n\n",
    "def u(n) :\n",
    "    return np.exp(b*h(n) + sigma*np.sqrt(h(n)))\n",
    "def d(n) :\n",
    "    return np.exp(b*h(n) - sigma*np.sqrt(h(n)))\n",
    "def p(n) :\n",
    "    return (np.exp(r*h(n)) - d(n))/(u(n) - d(n))"
   ]
  },
  {
   "cell_type": "markdown",
   "metadata": {},
   "source": [
    "(a) Function **Sn**"
   ]
  },
  {
   "cell_type": "code",
   "execution_count": 3,
   "metadata": {},
   "outputs": [],
   "source": [
    "def Sn(T,n,b,sigma,j) :\n",
    "    out = []\n",
    "    for i in range(0,j+1) :\n",
    "        out.append(S0*u(n)**(j-i)*d(n)**(i))\n",
    "    return out"
   ]
  },
  {
   "cell_type": "markdown",
   "metadata": {},
   "source": [
    "(b) Function **Payoffn**"
   ]
  },
  {
   "cell_type": "code",
   "execution_count": 4,
   "metadata": {},
   "outputs": [],
   "source": [
    "def Payoffn(T,n,b,sigma,K) :\n",
    "    out = []\n",
    "    for i in range(0,n+1) :\n",
    "        out.append(max(Sn(T,n,b,sigma,n)[i]-K,0))\n",
    "    return out"
   ]
  },
  {
   "cell_type": "markdown",
   "metadata": {},
   "source": [
    "(c) Function **Calln**"
   ]
  },
  {
   "cell_type": "code",
   "execution_count": 5,
   "metadata": {},
   "outputs": [],
   "source": [
    "def Calln(T,n,r,b,sigma,K) :\n",
    "    out = Payoffn(T,n,b,sigma,K)\n",
    "\n",
    "    for i in range(n-1,-1,-1) :\n",
    "        for j in range(0,i+1) :\n",
    "            out[j] = np.exp(-r*h(n))*(out[j]*p(n) + out[j+1]*(1-p(n)))\n",
    "    return out[0]"
   ]
  },
  {
   "cell_type": "markdown",
   "metadata": {},
   "source": [
    "(d) Function **Deltan**"
   ]
  },
  {
   "cell_type": "code",
   "execution_count": 6,
   "metadata": {},
   "outputs": [],
   "source": [
    "def Deltan(T,n,r,b,sigma,K,j) : \n",
    "    Cu = max(Sn(T,n,b,sigma,j+1)-K,0)\n",
    "    Cd = max(Sn(T,n,b,sigma,j)-K,0)\n",
    "    \n"
   ]
  },
  {
   "cell_type": "markdown",
   "metadata": {},
   "source": [
    "(e) Dependence between **Calln** & **Deltan**"
   ]
  },
  {
   "cell_type": "code",
   "execution_count": 7,
   "metadata": {},
   "outputs": [
    {
     "ename": "TypeError",
     "evalue": "unsupported operand type(s) for -: 'list' and 'int'",
     "output_type": "error",
     "traceback": [
      "\u001b[1;31m---------------------------------------------------------------------------\u001b[0m",
      "\u001b[1;31mTypeError\u001b[0m                                 Traceback (most recent call last)",
      "\u001b[1;32mMatt-Olek\\MAP552-Stochastic-models\\CPS11.ipynb Cell 14\u001b[0m line \u001b[0;36m5\n\u001b[0;32m      <a href='vscode-notebook-cell://github/Matt-Olek/MAP552-Stochastic-models/CPS11.ipynb#X16sdnNjb2RlLXZmcw%3D%3D?line=2'>3</a>\u001b[0m Deltalist \u001b[39m=\u001b[39m []\n\u001b[0;32m      <a href='vscode-notebook-cell://github/Matt-Olek/MAP552-Stochastic-models/CPS11.ipynb#X16sdnNjb2RlLXZmcw%3D%3D?line=3'>4</a>\u001b[0m \u001b[39mfor\u001b[39;00m K \u001b[39min\u001b[39;00m Klist :\n\u001b[1;32m----> <a href='vscode-notebook-cell://github/Matt-Olek/MAP552-Stochastic-models/CPS11.ipynb#X16sdnNjb2RlLXZmcw%3D%3D?line=4'>5</a>\u001b[0m     Deltalist\u001b[39m.\u001b[39mappend(Deltan(T,n,r,b,sigma,K,n\u001b[39m/\u001b[39;49m\u001b[39m/\u001b[39;49m\u001b[39m2\u001b[39;49m))\n\u001b[0;32m      <a href='vscode-notebook-cell://github/Matt-Olek/MAP552-Stochastic-models/CPS11.ipynb#X16sdnNjb2RlLXZmcw%3D%3D?line=6'>7</a>\u001b[0m plt\u001b[39m.\u001b[39mplot(Klist,Deltalist)\n\u001b[0;32m      <a href='vscode-notebook-cell://github/Matt-Olek/MAP552-Stochastic-models/CPS11.ipynb#X16sdnNjb2RlLXZmcw%3D%3D?line=7'>8</a>\u001b[0m plt\u001b[39m.\u001b[39mxlabel(\u001b[39m'\u001b[39m\u001b[39mStrike Price\u001b[39m\u001b[39m'\u001b[39m)\n",
      "\u001b[1;32mMatt-Olek\\MAP552-Stochastic-models\\CPS11.ipynb Cell 14\u001b[0m line \u001b[0;36m2\n\u001b[0;32m      <a href='vscode-notebook-cell://github/Matt-Olek/MAP552-Stochastic-models/CPS11.ipynb#X16sdnNjb2RlLXZmcw%3D%3D?line=0'>1</a>\u001b[0m \u001b[39mdef\u001b[39;00m \u001b[39mDeltan\u001b[39m(T,n,r,b,sigma,K,j) : \n\u001b[1;32m----> <a href='vscode-notebook-cell://github/Matt-Olek/MAP552-Stochastic-models/CPS11.ipynb#X16sdnNjb2RlLXZmcw%3D%3D?line=1'>2</a>\u001b[0m     Cu \u001b[39m=\u001b[39m \u001b[39mmax\u001b[39m(Sn(T,n,b,sigma,j\u001b[39m+\u001b[39;49m\u001b[39m1\u001b[39;49m)\u001b[39m-\u001b[39;49mK,\u001b[39m0\u001b[39m)\n\u001b[0;32m      <a href='vscode-notebook-cell://github/Matt-Olek/MAP552-Stochastic-models/CPS11.ipynb#X16sdnNjb2RlLXZmcw%3D%3D?line=2'>3</a>\u001b[0m     Cd \u001b[39m=\u001b[39m \u001b[39mmax\u001b[39m(Sn(T,n,b,sigma,j)\u001b[39m-\u001b[39mK,\u001b[39m0\u001b[39m)\n",
      "\u001b[1;31mTypeError\u001b[0m: unsupported operand type(s) for -: 'list' and 'int'"
     ]
    }
   ],
   "source": [
    "Klist = [80+i for i in range(0,41)]\n",
    "\n",
    "Deltalist = []\n",
    "for K in Klist :\n",
    "    Deltalist.append(Deltan(T,n,r,b,sigma,K,n//2))\n",
    "\n",
    "plt.plot(Klist,Deltalist)\n",
    "plt.xlabel('Strike Price')\n",
    "plt.ylabel('Delta')\n",
    "plt.title('Delta vs Strike Price')\n",
    "plt.show()\n",
    "\n"
   ]
  },
  {
   "cell_type": "markdown",
   "metadata": {},
   "source": [
    "## Black-Scholes formula"
   ]
  },
  {
   "cell_type": "markdown",
   "metadata": {},
   "source": [
    "2 -"
   ]
  },
  {
   "cell_type": "markdown",
   "metadata": {},
   "source": [
    "(a) Function **Call**"
   ]
  },
  {
   "cell_type": "code",
   "execution_count": 8,
   "metadata": {},
   "outputs": [],
   "source": [
    "def dplus(s,k,v) :\n",
    "    return ((np.log(s/k))/(np.sqrt(v)) + (np.sqrt(v))/2)\n",
    "def dminus(s,k,v) :\n",
    "    return ((np.log(s/k))/(np.sqrt(v)) - (np.sqrt(v))/2)\n",
    "#----------------------------------------------#\n",
    "def Call(T,r,sigma,K):\n",
    "    return S0*stats.norm.cdf(dplus(S0,K*np.exp(-r*T),sigma**2*T)) - K*np.exp(-r*T)*stats.norm.cdf(dminus(S0,K*np.exp(-r*T),sigma**2*T))\n"
   ]
  },
  {
   "cell_type": "markdown",
   "metadata": {},
   "source": [
    "(b) Err"
   ]
  },
  {
   "cell_type": "code",
   "execution_count": 9,
   "metadata": {},
   "outputs": [],
   "source": [
    "def err(T,n,r,b,sigma,K) :\n",
    "    return Calln(T,n,r,b,sigma,K)/Call(T,r,sigma,K) - 1"
   ]
  },
  {
   "cell_type": "code",
   "execution_count": 10,
   "metadata": {},
   "outputs": [
    {
     "data": {
      "image/png": "[encoded data removed]",
      "text/plain": [
       "<Figure size 640x480 with 1 Axes>"
      ]
     },
     "metadata": {},
     "output_type": "display_data"
    }
   ],
   "source": [
    "#Plotting the error#\n",
    "K = 105\n",
    "nlist = [i for i in range(1,100)]\n",
    "errlist = []\n",
    "for n in nlist :\n",
    "    errlist.append(err(T,n,r,b,sigma,K))\n",
    "\n",
    "plt.plot(nlist,errlist)\n",
    "plt.xlabel('n')\n",
    "plt.ylabel('Error')\n",
    "plt.title('Error vs n')\n",
    "plt.show()"
   ]
  }
 ],
 "metadata": {
  "kernelspec": {
   "display_name": "Python 3",
   "language": "python",
   "name": "python3"
  },
  "language_info": {
   "codemirror_mode": {
    "name": "ipython",
    "version": 3
   },
   "file_extension": ".py",
   "mimetype": "text/x-python",
   "name": "python",
   "nbconvert_exporter": "python",
   "pygments_lexer": "ipython3",
   "version": "3.11.5"
  },
  "orig_nbformat": 4
 },
 "nbformat": 4,
 "nbformat_minor": 2
}
